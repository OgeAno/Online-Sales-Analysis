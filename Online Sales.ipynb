{
 "cells": [
  {
   "cell_type": "markdown",
   "id": "4f68f7e0",
   "metadata": {},
   "source": [
    "### Data Wrangling in Python"
   ]
  },
  {
   "cell_type": "markdown",
   "id": "2d75e213",
   "metadata": {},
   "source": [
    "#### Step 1: Importing the library used"
   ]
  },
  {
   "cell_type": "code",
   "execution_count": 1,
   "id": "dfca34e5",
   "metadata": {},
   "outputs": [],
   "source": [
    "#In this case, I needed/used only pandas\n",
    "import pandas as pd                 "
   ]
  },
  {
   "cell_type": "markdown",
   "id": "6b99ba63",
   "metadata": {},
   "source": [
    "#### Step 2: Importing the datasets and merging them"
   ]
  },
  {
   "cell_type": "code",
   "execution_count": 2,
   "id": "7b7a13b9",
   "metadata": {},
   "outputs": [
    {
     "data": {
      "text/html": [
       "<div>\n",
       "<style scoped>\n",
       "    .dataframe tbody tr th:only-of-type {\n",
       "        vertical-align: middle;\n",
       "    }\n",
       "\n",
       "    .dataframe tbody tr th {\n",
       "        vertical-align: top;\n",
       "    }\n",
       "\n",
       "    .dataframe thead th {\n",
       "        text-align: right;\n",
       "    }\n",
       "</style>\n",
       "<table border=\"1\" class=\"dataframe\">\n",
       "  <thead>\n",
       "    <tr style=\"text-align: right;\">\n",
       "      <th></th>\n",
       "      <th>Invoice</th>\n",
       "      <th>StockCode</th>\n",
       "      <th>Description</th>\n",
       "      <th>Quantity</th>\n",
       "      <th>InvoiceDate</th>\n",
       "      <th>Price</th>\n",
       "      <th>Customer ID</th>\n",
       "      <th>Country</th>\n",
       "      <th>Region</th>\n",
       "    </tr>\n",
       "  </thead>\n",
       "  <tbody>\n",
       "    <tr>\n",
       "      <th>0</th>\n",
       "      <td>493410</td>\n",
       "      <td>TEST001</td>\n",
       "      <td>This is a test product.</td>\n",
       "      <td>5</td>\n",
       "      <td>1/4/2018 9:24</td>\n",
       "      <td>4.50</td>\n",
       "      <td>12346.0</td>\n",
       "      <td>United Kingdom</td>\n",
       "      <td>Europe</td>\n",
       "    </tr>\n",
       "    <tr>\n",
       "      <th>1</th>\n",
       "      <td>C493411</td>\n",
       "      <td>21539</td>\n",
       "      <td>RETRO SPOTS BUTTER DISH</td>\n",
       "      <td>-1</td>\n",
       "      <td>1/4/2018 9:43</td>\n",
       "      <td>4.25</td>\n",
       "      <td>14590.0</td>\n",
       "      <td>United Kingdom</td>\n",
       "      <td>Europe</td>\n",
       "    </tr>\n",
       "    <tr>\n",
       "      <th>2</th>\n",
       "      <td>493412</td>\n",
       "      <td>TEST001</td>\n",
       "      <td>This is a test product.</td>\n",
       "      <td>5</td>\n",
       "      <td>1/4/2018 9:53</td>\n",
       "      <td>4.50</td>\n",
       "      <td>12346.0</td>\n",
       "      <td>United Kingdom</td>\n",
       "      <td>Europe</td>\n",
       "    </tr>\n",
       "    <tr>\n",
       "      <th>3</th>\n",
       "      <td>493413</td>\n",
       "      <td>21724</td>\n",
       "      <td>PANDA AND BUNNIES STICKER SHEET</td>\n",
       "      <td>1</td>\n",
       "      <td>1/4/2018 9:54</td>\n",
       "      <td>0.85</td>\n",
       "      <td>NaN</td>\n",
       "      <td>United Kingdom</td>\n",
       "      <td>Europe</td>\n",
       "    </tr>\n",
       "    <tr>\n",
       "      <th>4</th>\n",
       "      <td>493413</td>\n",
       "      <td>84578</td>\n",
       "      <td>ELEPHANT TOY WITH BLUE T-SHIRT</td>\n",
       "      <td>1</td>\n",
       "      <td>1/4/2018 9:54</td>\n",
       "      <td>3.75</td>\n",
       "      <td>NaN</td>\n",
       "      <td>United Kingdom</td>\n",
       "      <td>Europe</td>\n",
       "    </tr>\n",
       "  </tbody>\n",
       "</table>\n",
       "</div>"
      ],
      "text/plain": [
       "   Invoice StockCode                      Description  Quantity  \\\n",
       "0   493410   TEST001          This is a test product.         5   \n",
       "1  C493411     21539          RETRO SPOTS BUTTER DISH        -1   \n",
       "2   493412   TEST001          This is a test product.         5   \n",
       "3   493413     21724  PANDA AND BUNNIES STICKER SHEET         1   \n",
       "4   493413     84578   ELEPHANT TOY WITH BLUE T-SHIRT         1   \n",
       "\n",
       "     InvoiceDate  Price  Customer ID         Country  Region  \n",
       "0  1/4/2018 9:24   4.50      12346.0  United Kingdom  Europe  \n",
       "1  1/4/2018 9:43   4.25      14590.0  United Kingdom  Europe  \n",
       "2  1/4/2018 9:53   4.50      12346.0  United Kingdom  Europe  \n",
       "3  1/4/2018 9:54   0.85          NaN  United Kingdom  Europe  \n",
       "4  1/4/2018 9:54   3.75          NaN  United Kingdom  Europe  "
      ]
     },
     "execution_count": 2,
     "metadata": {},
     "output_type": "execute_result"
    }
   ],
   "source": [
    "#import sales dataset for 2018\n",
    "data1 = pd.read_csv(\"C:/Users/ETIABA CHAMBER'S/Documents/Data_Analytics/My_portfolio/Online_store_sales/Year_2018.csv\", encoding=\"ISO-8859-1\")\n",
    "data1.head()"
   ]
  },
  {
   "cell_type": "code",
   "execution_count": 3,
   "id": "56428791",
   "metadata": {},
   "outputs": [
    {
     "data": {
      "text/html": [
       "<div>\n",
       "<style scoped>\n",
       "    .dataframe tbody tr th:only-of-type {\n",
       "        vertical-align: middle;\n",
       "    }\n",
       "\n",
       "    .dataframe tbody tr th {\n",
       "        vertical-align: top;\n",
       "    }\n",
       "\n",
       "    .dataframe thead th {\n",
       "        text-align: right;\n",
       "    }\n",
       "</style>\n",
       "<table border=\"1\" class=\"dataframe\">\n",
       "  <thead>\n",
       "    <tr style=\"text-align: right;\">\n",
       "      <th></th>\n",
       "      <th>InvoiceNo</th>\n",
       "      <th>StockCode</th>\n",
       "      <th>Description</th>\n",
       "      <th>Quantity</th>\n",
       "      <th>InvoiceDate</th>\n",
       "      <th>UnitPrice</th>\n",
       "      <th>CustomerID</th>\n",
       "      <th>Country</th>\n",
       "      <th>Region</th>\n",
       "    </tr>\n",
       "  </thead>\n",
       "  <tbody>\n",
       "    <tr>\n",
       "      <th>0</th>\n",
       "      <td>539993</td>\n",
       "      <td>22386</td>\n",
       "      <td>JUMBO BAG PINK POLKADOT</td>\n",
       "      <td>10</td>\n",
       "      <td>1/4/2019 10:00</td>\n",
       "      <td>1.95</td>\n",
       "      <td>13313.0</td>\n",
       "      <td>United Kingdom</td>\n",
       "      <td>Europe</td>\n",
       "    </tr>\n",
       "    <tr>\n",
       "      <th>1</th>\n",
       "      <td>539993</td>\n",
       "      <td>21499</td>\n",
       "      <td>BLUE POLKADOT WRAP</td>\n",
       "      <td>25</td>\n",
       "      <td>1/4/2019 10:00</td>\n",
       "      <td>0.42</td>\n",
       "      <td>13313.0</td>\n",
       "      <td>United Kingdom</td>\n",
       "      <td>Europe</td>\n",
       "    </tr>\n",
       "    <tr>\n",
       "      <th>2</th>\n",
       "      <td>539993</td>\n",
       "      <td>21498</td>\n",
       "      <td>RED RETROSPOT WRAP</td>\n",
       "      <td>25</td>\n",
       "      <td>1/4/2019 10:00</td>\n",
       "      <td>0.42</td>\n",
       "      <td>13313.0</td>\n",
       "      <td>United Kingdom</td>\n",
       "      <td>Europe</td>\n",
       "    </tr>\n",
       "    <tr>\n",
       "      <th>3</th>\n",
       "      <td>539993</td>\n",
       "      <td>22379</td>\n",
       "      <td>RECYCLING BAG RETROSPOT</td>\n",
       "      <td>5</td>\n",
       "      <td>1/4/2019 10:00</td>\n",
       "      <td>2.10</td>\n",
       "      <td>13313.0</td>\n",
       "      <td>United Kingdom</td>\n",
       "      <td>Europe</td>\n",
       "    </tr>\n",
       "    <tr>\n",
       "      <th>4</th>\n",
       "      <td>539993</td>\n",
       "      <td>20718</td>\n",
       "      <td>RED RETROSPOT SHOPPER BAG</td>\n",
       "      <td>10</td>\n",
       "      <td>1/4/2019 10:00</td>\n",
       "      <td>1.25</td>\n",
       "      <td>13313.0</td>\n",
       "      <td>United Kingdom</td>\n",
       "      <td>Europe</td>\n",
       "    </tr>\n",
       "  </tbody>\n",
       "</table>\n",
       "</div>"
      ],
      "text/plain": [
       "  InvoiceNo StockCode                Description  Quantity     InvoiceDate  \\\n",
       "0    539993     22386    JUMBO BAG PINK POLKADOT        10  1/4/2019 10:00   \n",
       "1    539993     21499         BLUE POLKADOT WRAP        25  1/4/2019 10:00   \n",
       "2    539993     21498         RED RETROSPOT WRAP        25  1/4/2019 10:00   \n",
       "3    539993     22379    RECYCLING BAG RETROSPOT         5  1/4/2019 10:00   \n",
       "4    539993     20718  RED RETROSPOT SHOPPER BAG        10  1/4/2019 10:00   \n",
       "\n",
       "   UnitPrice  CustomerID         Country  Region  \n",
       "0       1.95     13313.0  United Kingdom  Europe  \n",
       "1       0.42     13313.0  United Kingdom  Europe  \n",
       "2       0.42     13313.0  United Kingdom  Europe  \n",
       "3       2.10     13313.0  United Kingdom  Europe  \n",
       "4       1.25     13313.0  United Kingdom  Europe  "
      ]
     },
     "execution_count": 3,
     "metadata": {},
     "output_type": "execute_result"
    }
   ],
   "source": [
    "#import sales dataset for 2019\n",
    "data2 = pd.read_csv(\"C:/Users/ETIABA CHAMBER'S/Documents/Data_Analytics/My_portfolio/Online_store_sales/Year_2019.csv\", encoding=\"ISO-8859-1\")\n",
    "data2.head()"
   ]
  },
  {
   "cell_type": "markdown",
   "id": "109e306a",
   "metadata": {},
   "source": [
    "Having studied the datasets, I observed that both datasets had similar columns, but different column names. This could also be seen from the last two outputs above. So I renamed the columns in both datasets to have the same names."
   ]
  },
  {
   "cell_type": "code",
   "execution_count": 4,
   "id": "e94189ac",
   "metadata": {},
   "outputs": [],
   "source": [
    "#renaming data1 and data2 columns\n",
    "data1.columns = ['Invoice_No', 'Stock_Code', 'Description', 'Quantity',\n",
    "                 'Invoice_Date', 'Unit_Price', 'Customer_ID', 'Country', 'Region']\n",
    "data2.columns = ['Invoice_No', 'Stock_Code', 'Description', 'Quantity',\n",
    "                 'Invoice_Date', 'Unit_Price', 'Customer_ID', 'Country', 'Region']\n"
   ]
  },
  {
   "cell_type": "code",
   "execution_count": 5,
   "id": "bf678e9c",
   "metadata": {},
   "outputs": [
    {
     "name": "stdout",
     "output_type": "stream",
     "text": [
      "<class 'pandas.core.frame.DataFrame'>\n",
      "RangeIndex: 503277 entries, 0 to 503276\n",
      "Data columns (total 9 columns):\n",
      " #   Column        Non-Null Count   Dtype  \n",
      "---  ------        --------------   -----  \n",
      " 0   Invoice_No    503277 non-null  object \n",
      " 1   Stock_Code    503277 non-null  object \n",
      " 2   Description   500396 non-null  object \n",
      " 3   Quantity      503277 non-null  int64  \n",
      " 4   Invoice_Date  503277 non-null  object \n",
      " 5   Unit_Price    503277 non-null  float64\n",
      " 6   Customer_ID   401010 non-null  float64\n",
      " 7   Country       503277 non-null  object \n",
      " 8   Region        503277 non-null  object \n",
      "dtypes: float64(2), int64(1), object(6)\n",
      "memory usage: 34.6+ MB\n",
      "<class 'pandas.core.frame.DataFrame'>\n",
      "RangeIndex: 519386 entries, 0 to 519385\n",
      "Data columns (total 9 columns):\n",
      " #   Column        Non-Null Count   Dtype  \n",
      "---  ------        --------------   -----  \n",
      " 0   Invoice_No    519386 non-null  object \n",
      " 1   Stock_Code    519386 non-null  object \n",
      " 2   Description   518039 non-null  object \n",
      " 3   Quantity      519386 non-null  int64  \n",
      " 4   Invoice_Date  519386 non-null  object \n",
      " 5   Unit_Price    519386 non-null  float64\n",
      " 6   Customer_ID   392028 non-null  float64\n",
      " 7   Country       519386 non-null  object \n",
      " 8   Region        519386 non-null  object \n",
      "dtypes: float64(2), int64(1), object(6)\n",
      "memory usage: 35.7+ MB\n"
     ]
    }
   ],
   "source": [
    "#checking that the column names have been properly renamed \n",
    "data1.info()\n",
    "data2.info()"
   ]
  },
  {
   "cell_type": "markdown",
   "id": "38b001ca",
   "metadata": {},
   "source": [
    "Then I combined the two datasets into one. "
   ]
  },
  {
   "cell_type": "code",
   "execution_count": 6,
   "id": "bc31ddf6",
   "metadata": {},
   "outputs": [],
   "source": [
    "#combining both datasets\n",
    "df = pd.concat([data1, data2], ignore_index = True)"
   ]
  },
  {
   "cell_type": "code",
   "execution_count": 7,
   "id": "1ac8ad36",
   "metadata": {},
   "outputs": [
    {
     "name": "stdout",
     "output_type": "stream",
     "text": [
      "<class 'pandas.core.frame.DataFrame'>\n",
      "RangeIndex: 1022663 entries, 0 to 1022662\n",
      "Data columns (total 9 columns):\n",
      " #   Column        Non-Null Count    Dtype  \n",
      "---  ------        --------------    -----  \n",
      " 0   Invoice_No    1022663 non-null  object \n",
      " 1   Stock_Code    1022663 non-null  object \n",
      " 2   Description   1018435 non-null  object \n",
      " 3   Quantity      1022663 non-null  int64  \n",
      " 4   Invoice_Date  1022663 non-null  object \n",
      " 5   Unit_Price    1022663 non-null  float64\n",
      " 6   Customer_ID   793038 non-null   float64\n",
      " 7   Country       1022663 non-null  object \n",
      " 8   Region        1022663 non-null  object \n",
      "dtypes: float64(2), int64(1), object(6)\n",
      "memory usage: 70.2+ MB\n"
     ]
    },
    {
     "data": {
      "text/html": [
       "<div>\n",
       "<style scoped>\n",
       "    .dataframe tbody tr th:only-of-type {\n",
       "        vertical-align: middle;\n",
       "    }\n",
       "\n",
       "    .dataframe tbody tr th {\n",
       "        vertical-align: top;\n",
       "    }\n",
       "\n",
       "    .dataframe thead th {\n",
       "        text-align: right;\n",
       "    }\n",
       "</style>\n",
       "<table border=\"1\" class=\"dataframe\">\n",
       "  <thead>\n",
       "    <tr style=\"text-align: right;\">\n",
       "      <th></th>\n",
       "      <th>Invoice_No</th>\n",
       "      <th>Stock_Code</th>\n",
       "      <th>Description</th>\n",
       "      <th>Quantity</th>\n",
       "      <th>Invoice_Date</th>\n",
       "      <th>Unit_Price</th>\n",
       "      <th>Customer_ID</th>\n",
       "      <th>Country</th>\n",
       "      <th>Region</th>\n",
       "    </tr>\n",
       "  </thead>\n",
       "  <tbody>\n",
       "    <tr>\n",
       "      <th>0</th>\n",
       "      <td>493410</td>\n",
       "      <td>TEST001</td>\n",
       "      <td>This is a test product.</td>\n",
       "      <td>5</td>\n",
       "      <td>1/4/2018 9:24</td>\n",
       "      <td>4.50</td>\n",
       "      <td>12346.0</td>\n",
       "      <td>United Kingdom</td>\n",
       "      <td>Europe</td>\n",
       "    </tr>\n",
       "    <tr>\n",
       "      <th>1</th>\n",
       "      <td>C493411</td>\n",
       "      <td>21539</td>\n",
       "      <td>RETRO SPOTS BUTTER DISH</td>\n",
       "      <td>-1</td>\n",
       "      <td>1/4/2018 9:43</td>\n",
       "      <td>4.25</td>\n",
       "      <td>14590.0</td>\n",
       "      <td>United Kingdom</td>\n",
       "      <td>Europe</td>\n",
       "    </tr>\n",
       "    <tr>\n",
       "      <th>2</th>\n",
       "      <td>493412</td>\n",
       "      <td>TEST001</td>\n",
       "      <td>This is a test product.</td>\n",
       "      <td>5</td>\n",
       "      <td>1/4/2018 9:53</td>\n",
       "      <td>4.50</td>\n",
       "      <td>12346.0</td>\n",
       "      <td>United Kingdom</td>\n",
       "      <td>Europe</td>\n",
       "    </tr>\n",
       "    <tr>\n",
       "      <th>3</th>\n",
       "      <td>493413</td>\n",
       "      <td>21724</td>\n",
       "      <td>PANDA AND BUNNIES STICKER SHEET</td>\n",
       "      <td>1</td>\n",
       "      <td>1/4/2018 9:54</td>\n",
       "      <td>0.85</td>\n",
       "      <td>NaN</td>\n",
       "      <td>United Kingdom</td>\n",
       "      <td>Europe</td>\n",
       "    </tr>\n",
       "    <tr>\n",
       "      <th>4</th>\n",
       "      <td>493413</td>\n",
       "      <td>84578</td>\n",
       "      <td>ELEPHANT TOY WITH BLUE T-SHIRT</td>\n",
       "      <td>1</td>\n",
       "      <td>1/4/2018 9:54</td>\n",
       "      <td>3.75</td>\n",
       "      <td>NaN</td>\n",
       "      <td>United Kingdom</td>\n",
       "      <td>Europe</td>\n",
       "    </tr>\n",
       "  </tbody>\n",
       "</table>\n",
       "</div>"
      ],
      "text/plain": [
       "  Invoice_No Stock_Code                      Description  Quantity  \\\n",
       "0     493410    TEST001          This is a test product.         5   \n",
       "1    C493411      21539          RETRO SPOTS BUTTER DISH        -1   \n",
       "2     493412    TEST001          This is a test product.         5   \n",
       "3     493413      21724  PANDA AND BUNNIES STICKER SHEET         1   \n",
       "4     493413      84578   ELEPHANT TOY WITH BLUE T-SHIRT         1   \n",
       "\n",
       "    Invoice_Date  Unit_Price  Customer_ID         Country  Region  \n",
       "0  1/4/2018 9:24        4.50      12346.0  United Kingdom  Europe  \n",
       "1  1/4/2018 9:43        4.25      14590.0  United Kingdom  Europe  \n",
       "2  1/4/2018 9:53        4.50      12346.0  United Kingdom  Europe  \n",
       "3  1/4/2018 9:54        0.85          NaN  United Kingdom  Europe  \n",
       "4  1/4/2018 9:54        3.75          NaN  United Kingdom  Europe  "
      ]
     },
     "execution_count": 7,
     "metadata": {},
     "output_type": "execute_result"
    }
   ],
   "source": [
    "#checking that the datasets were properly combined\n",
    "df.info()\n",
    "df.head()"
   ]
  },
  {
   "cell_type": "markdown",
   "id": "146cab1d",
   "metadata": {},
   "source": [
    "The combined dataset has 1,022,663 entries and 9 columns.  \n",
    "After successfully combining the datasets, it was time for me to clean the data. "
   ]
  },
  {
   "cell_type": "markdown",
   "id": "0117f0ce",
   "metadata": {},
   "source": [
    "#### Step 3: Data Cleaning\n",
    "##### ~ Changing some column types\n",
    "The first data cleaning step I took was to change some of the column types to the appropriate format.\n",
    "It can be seen from the last output that the Customer_ID column is stored as float type instead of object (string) type. I had to change this. Also, Invoice_Date column is stored as object type instead of datetime; I changed this too. "
   ]
  },
  {
   "cell_type": "code",
   "execution_count": 8,
   "id": "118262c5",
   "metadata": {},
   "outputs": [],
   "source": [
    "#changing Customer_ID column to object type \n",
    "df.Customer_ID = df.Customer_ID.astype('Int32').astype(object)"
   ]
  },
  {
   "cell_type": "code",
   "execution_count": 9,
   "id": "a9e6cf61",
   "metadata": {},
   "outputs": [],
   "source": [
    "#changing Invoice_Date column to datetime\n",
    "df['Invoice_Date'] = pd.to_datetime(df['Invoice_Date'], infer_datetime_format=True)"
   ]
  },
  {
   "cell_type": "code",
   "execution_count": 10,
   "id": "e4476d82",
   "metadata": {},
   "outputs": [
    {
     "name": "stdout",
     "output_type": "stream",
     "text": [
      "<class 'pandas.core.frame.DataFrame'>\n",
      "RangeIndex: 1022663 entries, 0 to 1022662\n",
      "Data columns (total 9 columns):\n",
      " #   Column        Non-Null Count    Dtype         \n",
      "---  ------        --------------    -----         \n",
      " 0   Invoice_No    1022663 non-null  object        \n",
      " 1   Stock_Code    1022663 non-null  object        \n",
      " 2   Description   1018435 non-null  object        \n",
      " 3   Quantity      1022663 non-null  int64         \n",
      " 4   Invoice_Date  1022663 non-null  datetime64[ns]\n",
      " 5   Unit_Price    1022663 non-null  float64       \n",
      " 6   Customer_ID   793038 non-null   object        \n",
      " 7   Country       1022663 non-null  object        \n",
      " 8   Region        1022663 non-null  object        \n",
      "dtypes: datetime64[ns](1), float64(1), int64(1), object(6)\n",
      "memory usage: 70.2+ MB\n"
     ]
    }
   ],
   "source": [
    "#checking to see that my columns were properly changed\n",
    "df.info()"
   ]
  },
  {
   "cell_type": "markdown",
   "id": "f13a2690",
   "metadata": {},
   "source": [
    "##### ~ Dropping bad data\n",
    "In the dataset, there were test entries where IT staff made faux purchases to check that the web store was running smoothly. These faux purchases had the stock codes 'TEST001' or 'TEST002'. I counted the number of entries having such stock codes and dropped them."
   ]
  },
  {
   "cell_type": "code",
   "execution_count": 11,
   "id": "0010dbcd",
   "metadata": {},
   "outputs": [
    {
     "data": {
      "text/plain": [
       "17"
      ]
     },
     "execution_count": 11,
     "metadata": {},
     "output_type": "execute_result"
    }
   ],
   "source": [
    "#to get the number of test entries in the dataset \n",
    "df['Stock_Code'].str.contains('TEST', na=False).sum()"
   ]
  },
  {
   "cell_type": "code",
   "execution_count": 12,
   "id": "55cfe31d",
   "metadata": {},
   "outputs": [
    {
     "data": {
      "text/html": [
       "<div>\n",
       "<style scoped>\n",
       "    .dataframe tbody tr th:only-of-type {\n",
       "        vertical-align: middle;\n",
       "    }\n",
       "\n",
       "    .dataframe tbody tr th {\n",
       "        vertical-align: top;\n",
       "    }\n",
       "\n",
       "    .dataframe thead th {\n",
       "        text-align: right;\n",
       "    }\n",
       "</style>\n",
       "<table border=\"1\" class=\"dataframe\">\n",
       "  <thead>\n",
       "    <tr style=\"text-align: right;\">\n",
       "      <th></th>\n",
       "      <th>Invoice_No</th>\n",
       "      <th>Stock_Code</th>\n",
       "      <th>Description</th>\n",
       "      <th>Quantity</th>\n",
       "      <th>Invoice_Date</th>\n",
       "      <th>Unit_Price</th>\n",
       "      <th>Customer_ID</th>\n",
       "      <th>Country</th>\n",
       "      <th>Region</th>\n",
       "    </tr>\n",
       "  </thead>\n",
       "  <tbody>\n",
       "    <tr>\n",
       "      <th>0</th>\n",
       "      <td>C493411</td>\n",
       "      <td>21539</td>\n",
       "      <td>RETRO SPOTS BUTTER DISH</td>\n",
       "      <td>-1</td>\n",
       "      <td>2018-01-04 09:43:00</td>\n",
       "      <td>4.25</td>\n",
       "      <td>14590</td>\n",
       "      <td>United Kingdom</td>\n",
       "      <td>Europe</td>\n",
       "    </tr>\n",
       "    <tr>\n",
       "      <th>1</th>\n",
       "      <td>493413</td>\n",
       "      <td>21724</td>\n",
       "      <td>PANDA AND BUNNIES STICKER SHEET</td>\n",
       "      <td>1</td>\n",
       "      <td>2018-01-04 09:54:00</td>\n",
       "      <td>0.85</td>\n",
       "      <td>&lt;NA&gt;</td>\n",
       "      <td>United Kingdom</td>\n",
       "      <td>Europe</td>\n",
       "    </tr>\n",
       "    <tr>\n",
       "      <th>2</th>\n",
       "      <td>493413</td>\n",
       "      <td>84578</td>\n",
       "      <td>ELEPHANT TOY WITH BLUE T-SHIRT</td>\n",
       "      <td>1</td>\n",
       "      <td>2018-01-04 09:54:00</td>\n",
       "      <td>3.75</td>\n",
       "      <td>&lt;NA&gt;</td>\n",
       "      <td>United Kingdom</td>\n",
       "      <td>Europe</td>\n",
       "    </tr>\n",
       "    <tr>\n",
       "      <th>3</th>\n",
       "      <td>493413</td>\n",
       "      <td>21723</td>\n",
       "      <td>ALPHABET HEARTS STICKER SHEET</td>\n",
       "      <td>1</td>\n",
       "      <td>2018-01-04 09:54:00</td>\n",
       "      <td>0.85</td>\n",
       "      <td>&lt;NA&gt;</td>\n",
       "      <td>United Kingdom</td>\n",
       "      <td>Europe</td>\n",
       "    </tr>\n",
       "    <tr>\n",
       "      <th>4</th>\n",
       "      <td>493414</td>\n",
       "      <td>21844</td>\n",
       "      <td>RETRO SPOT MUG</td>\n",
       "      <td>36</td>\n",
       "      <td>2018-01-04 10:28:00</td>\n",
       "      <td>2.55</td>\n",
       "      <td>14590</td>\n",
       "      <td>United Kingdom</td>\n",
       "      <td>Europe</td>\n",
       "    </tr>\n",
       "  </tbody>\n",
       "</table>\n",
       "</div>"
      ],
      "text/plain": [
       "  Invoice_No Stock_Code                      Description  Quantity  \\\n",
       "0    C493411      21539          RETRO SPOTS BUTTER DISH        -1   \n",
       "1     493413      21724  PANDA AND BUNNIES STICKER SHEET         1   \n",
       "2     493413      84578   ELEPHANT TOY WITH BLUE T-SHIRT         1   \n",
       "3     493413      21723    ALPHABET HEARTS STICKER SHEET         1   \n",
       "4     493414      21844                   RETRO SPOT MUG        36   \n",
       "\n",
       "         Invoice_Date  Unit_Price Customer_ID         Country  Region  \n",
       "0 2018-01-04 09:43:00        4.25       14590  United Kingdom  Europe  \n",
       "1 2018-01-04 09:54:00        0.85        <NA>  United Kingdom  Europe  \n",
       "2 2018-01-04 09:54:00        3.75        <NA>  United Kingdom  Europe  \n",
       "3 2018-01-04 09:54:00        0.85        <NA>  United Kingdom  Europe  \n",
       "4 2018-01-04 10:28:00        2.55       14590  United Kingdom  Europe  "
      ]
     },
     "execution_count": 12,
     "metadata": {},
     "output_type": "execute_result"
    }
   ],
   "source": [
    "#the output above shows there are 17 test entries in the dataset\n",
    "#drop the test entries\n",
    "df = df[~df.Stock_Code.str.contains(\"TEST\")]\n",
    "df.reset_index(drop=True, inplace=True)\n",
    "df.head()"
   ]
  },
  {
   "cell_type": "code",
   "execution_count": 13,
   "id": "67432991",
   "metadata": {},
   "outputs": [
    {
     "data": {
      "text/plain": [
       "0"
      ]
     },
     "execution_count": 13,
     "metadata": {},
     "output_type": "execute_result"
    }
   ],
   "source": [
    "#double-checking that all 17 test entries were successfully dropped\n",
    "df['Stock_Code'].str.contains('TEST', na=False).sum()\n"
   ]
  },
  {
   "cell_type": "code",
   "execution_count": 14,
   "id": "c3954de1",
   "metadata": {},
   "outputs": [
    {
     "data": {
      "text/plain": [
       "(1022646, 9)"
      ]
     },
     "execution_count": 14,
     "metadata": {},
     "output_type": "execute_result"
    }
   ],
   "source": [
    "#checking that the number of rows left correspond\n",
    "df.shape"
   ]
  },
  {
   "cell_type": "markdown",
   "id": "96cc74a2",
   "metadata": {},
   "source": [
    "The outputs above show that all 17 test entries were successfully dropped."
   ]
  },
  {
   "cell_type": "markdown",
   "id": "80fc3eec",
   "metadata": {},
   "source": [
    "I also want to point out that in the dataset, there were entries that had negative number of quantities in the 'Quantity' column, with invoice numbers starting with 'C'. These were for cancelled orders. I did not take them out as they represented either orders that were cancelled before shipment, and money refunded to the client, or orders that were returned, so the negative quanities would cancel out where the actual orders were made. "
   ]
  },
  {
   "cell_type": "markdown",
   "id": "5282dce7",
   "metadata": {},
   "source": [
    "##### ~ Removing Irrelevant Columns\n",
    "For my analysis I did not need the 'Description' column as I could easily refer to the items using their stock code. So I dropped the description column."
   ]
  },
  {
   "cell_type": "code",
   "execution_count": 15,
   "id": "7c080032",
   "metadata": {},
   "outputs": [
    {
     "name": "stdout",
     "output_type": "stream",
     "text": [
      "<class 'pandas.core.frame.DataFrame'>\n",
      "RangeIndex: 1022646 entries, 0 to 1022645\n",
      "Data columns (total 8 columns):\n",
      " #   Column        Non-Null Count    Dtype         \n",
      "---  ------        --------------    -----         \n",
      " 0   Invoice_No    1022646 non-null  object        \n",
      " 1   Stock_Code    1022646 non-null  object        \n",
      " 2   Quantity      1022646 non-null  int64         \n",
      " 3   Invoice_Date  1022646 non-null  datetime64[ns]\n",
      " 4   Unit_Price    1022646 non-null  float64       \n",
      " 5   Customer_ID   793022 non-null   object        \n",
      " 6   Country       1022646 non-null  object        \n",
      " 7   Region        1022646 non-null  object        \n",
      "dtypes: datetime64[ns](1), float64(1), int64(1), object(5)\n",
      "memory usage: 62.4+ MB\n"
     ]
    }
   ],
   "source": [
    "#dropping the description column and confirming it's been dropped\n",
    "df.drop('Description', axis=1, inplace=True)\n",
    "df.info()"
   ]
  },
  {
   "cell_type": "markdown",
   "id": "f6b1ded3",
   "metadata": {},
   "source": [
    "##### ~ Checking for missing values"
   ]
  },
  {
   "cell_type": "code",
   "execution_count": 16,
   "id": "ce93ca6c",
   "metadata": {},
   "outputs": [
    {
     "data": {
      "text/plain": [
       "Invoice_No           0\n",
       "Stock_Code           0\n",
       "Quantity             0\n",
       "Invoice_Date         0\n",
       "Unit_Price           0\n",
       "Customer_ID     229624\n",
       "Country              0\n",
       "Region               0\n",
       "dtype: int64"
      ]
     },
     "execution_count": 16,
     "metadata": {},
     "output_type": "execute_result"
    }
   ],
   "source": [
    "#to get the number of missing values (if any) in each column\n",
    "df.isnull().sum()"
   ]
  },
  {
   "cell_type": "markdown",
   "id": "866e47e8",
   "metadata": {},
   "source": [
    "There were 229624 missing values, all from the 'Customer_ID' column. \n",
    "For the purpose of this analysis, I replaced the missing customer ids with 'Unknown' "
   ]
  },
  {
   "cell_type": "code",
   "execution_count": 17,
   "id": "44ea627f",
   "metadata": {},
   "outputs": [],
   "source": [
    "#replace all 229624 missing values for Customer_ID\n",
    "df.Customer_ID = df.Customer_ID.fillna('Unknown')"
   ]
  },
  {
   "cell_type": "code",
   "execution_count": 18,
   "id": "850e27a7",
   "metadata": {},
   "outputs": [
    {
     "data": {
      "text/plain": [
       "Invoice_No      0\n",
       "Stock_Code      0\n",
       "Quantity        0\n",
       "Invoice_Date    0\n",
       "Unit_Price      0\n",
       "Customer_ID     0\n",
       "Country         0\n",
       "Region          0\n",
       "dtype: int64"
      ]
     },
     "execution_count": 18,
     "metadata": {},
     "output_type": "execute_result"
    }
   ],
   "source": [
    "#double-checking that there are no more missing values\n",
    "df.isnull().sum()"
   ]
  },
  {
   "cell_type": "markdown",
   "id": "af132c80",
   "metadata": {},
   "source": [
    "##### ~ Checking for, and removing duplicate entries\n",
    "The nature of this dataset was such that all columns had valid duplicate entries, view the head below:"
   ]
  },
  {
   "cell_type": "code",
   "execution_count": 19,
   "id": "743e762b",
   "metadata": {},
   "outputs": [
    {
     "data": {
      "text/html": [
       "<div>\n",
       "<style scoped>\n",
       "    .dataframe tbody tr th:only-of-type {\n",
       "        vertical-align: middle;\n",
       "    }\n",
       "\n",
       "    .dataframe tbody tr th {\n",
       "        vertical-align: top;\n",
       "    }\n",
       "\n",
       "    .dataframe thead th {\n",
       "        text-align: right;\n",
       "    }\n",
       "</style>\n",
       "<table border=\"1\" class=\"dataframe\">\n",
       "  <thead>\n",
       "    <tr style=\"text-align: right;\">\n",
       "      <th></th>\n",
       "      <th>Invoice_No</th>\n",
       "      <th>Stock_Code</th>\n",
       "      <th>Quantity</th>\n",
       "      <th>Invoice_Date</th>\n",
       "      <th>Unit_Price</th>\n",
       "      <th>Customer_ID</th>\n",
       "      <th>Country</th>\n",
       "      <th>Region</th>\n",
       "    </tr>\n",
       "  </thead>\n",
       "  <tbody>\n",
       "    <tr>\n",
       "      <th>0</th>\n",
       "      <td>C493411</td>\n",
       "      <td>21539</td>\n",
       "      <td>-1</td>\n",
       "      <td>2018-01-04 09:43:00</td>\n",
       "      <td>4.25</td>\n",
       "      <td>14590</td>\n",
       "      <td>United Kingdom</td>\n",
       "      <td>Europe</td>\n",
       "    </tr>\n",
       "    <tr>\n",
       "      <th>1</th>\n",
       "      <td>493413</td>\n",
       "      <td>21724</td>\n",
       "      <td>1</td>\n",
       "      <td>2018-01-04 09:54:00</td>\n",
       "      <td>0.85</td>\n",
       "      <td>Unknown</td>\n",
       "      <td>United Kingdom</td>\n",
       "      <td>Europe</td>\n",
       "    </tr>\n",
       "    <tr>\n",
       "      <th>2</th>\n",
       "      <td>493413</td>\n",
       "      <td>84578</td>\n",
       "      <td>1</td>\n",
       "      <td>2018-01-04 09:54:00</td>\n",
       "      <td>3.75</td>\n",
       "      <td>Unknown</td>\n",
       "      <td>United Kingdom</td>\n",
       "      <td>Europe</td>\n",
       "    </tr>\n",
       "    <tr>\n",
       "      <th>3</th>\n",
       "      <td>493413</td>\n",
       "      <td>21723</td>\n",
       "      <td>1</td>\n",
       "      <td>2018-01-04 09:54:00</td>\n",
       "      <td>0.85</td>\n",
       "      <td>Unknown</td>\n",
       "      <td>United Kingdom</td>\n",
       "      <td>Europe</td>\n",
       "    </tr>\n",
       "    <tr>\n",
       "      <th>4</th>\n",
       "      <td>493414</td>\n",
       "      <td>21844</td>\n",
       "      <td>36</td>\n",
       "      <td>2018-01-04 10:28:00</td>\n",
       "      <td>2.55</td>\n",
       "      <td>14590</td>\n",
       "      <td>United Kingdom</td>\n",
       "      <td>Europe</td>\n",
       "    </tr>\n",
       "    <tr>\n",
       "      <th>5</th>\n",
       "      <td>493414</td>\n",
       "      <td>21533</td>\n",
       "      <td>12</td>\n",
       "      <td>2018-01-04 10:28:00</td>\n",
       "      <td>4.25</td>\n",
       "      <td>14590</td>\n",
       "      <td>United Kingdom</td>\n",
       "      <td>Europe</td>\n",
       "    </tr>\n",
       "    <tr>\n",
       "      <th>6</th>\n",
       "      <td>493414</td>\n",
       "      <td>37508</td>\n",
       "      <td>2</td>\n",
       "      <td>2018-01-04 10:28:00</td>\n",
       "      <td>2.55</td>\n",
       "      <td>14590</td>\n",
       "      <td>United Kingdom</td>\n",
       "      <td>Europe</td>\n",
       "    </tr>\n",
       "    <tr>\n",
       "      <th>7</th>\n",
       "      <td>493414</td>\n",
       "      <td>35001G</td>\n",
       "      <td>2</td>\n",
       "      <td>2018-01-04 10:28:00</td>\n",
       "      <td>4.25</td>\n",
       "      <td>14590</td>\n",
       "      <td>United Kingdom</td>\n",
       "      <td>Europe</td>\n",
       "    </tr>\n",
       "  </tbody>\n",
       "</table>\n",
       "</div>"
      ],
      "text/plain": [
       "  Invoice_No Stock_Code  Quantity        Invoice_Date  Unit_Price Customer_ID  \\\n",
       "0    C493411      21539        -1 2018-01-04 09:43:00        4.25       14590   \n",
       "1     493413      21724         1 2018-01-04 09:54:00        0.85     Unknown   \n",
       "2     493413      84578         1 2018-01-04 09:54:00        3.75     Unknown   \n",
       "3     493413      21723         1 2018-01-04 09:54:00        0.85     Unknown   \n",
       "4     493414      21844        36 2018-01-04 10:28:00        2.55       14590   \n",
       "5     493414      21533        12 2018-01-04 10:28:00        4.25       14590   \n",
       "6     493414      37508         2 2018-01-04 10:28:00        2.55       14590   \n",
       "7     493414     35001G         2 2018-01-04 10:28:00        4.25       14590   \n",
       "\n",
       "          Country  Region  \n",
       "0  United Kingdom  Europe  \n",
       "1  United Kingdom  Europe  \n",
       "2  United Kingdom  Europe  \n",
       "3  United Kingdom  Europe  \n",
       "4  United Kingdom  Europe  \n",
       "5  United Kingdom  Europe  \n",
       "6  United Kingdom  Europe  \n",
       "7  United Kingdom  Europe  "
      ]
     },
     "execution_count": 19,
     "metadata": {},
     "output_type": "execute_result"
    }
   ],
   "source": [
    "df.head(8)"
   ]
  },
  {
   "cell_type": "markdown",
   "id": "e7877e69",
   "metadata": {},
   "source": [
    "However, the trick was that no two same combinations of Invoice_No. and Stock_Code could occur, beacuse the same invoice could not have more than one entry of the same stock code. If the same purchase had more than one item with a specific stock code, the \"Quantity' should have increased, rather than have another entry of same stock code on same invoice.\n",
    "So to check for duplicate entries, I checked for duplicate combinations of Invoice_ID & Stock_Code."
   ]
  },
  {
   "cell_type": "code",
   "execution_count": 20,
   "id": "68494561",
   "metadata": {},
   "outputs": [
    {
     "data": {
      "text/html": [
       "<div>\n",
       "<style scoped>\n",
       "    .dataframe tbody tr th:only-of-type {\n",
       "        vertical-align: middle;\n",
       "    }\n",
       "\n",
       "    .dataframe tbody tr th {\n",
       "        vertical-align: top;\n",
       "    }\n",
       "\n",
       "    .dataframe thead th {\n",
       "        text-align: right;\n",
       "    }\n",
       "</style>\n",
       "<table border=\"1\" class=\"dataframe\">\n",
       "  <thead>\n",
       "    <tr style=\"text-align: right;\">\n",
       "      <th></th>\n",
       "      <th>Invoice_No</th>\n",
       "      <th>Stock_Code</th>\n",
       "      <th>Quantity</th>\n",
       "      <th>Invoice_Date</th>\n",
       "      <th>Unit_Price</th>\n",
       "      <th>Customer_ID</th>\n",
       "      <th>Country</th>\n",
       "      <th>Region</th>\n",
       "    </tr>\n",
       "  </thead>\n",
       "  <tbody>\n",
       "    <tr>\n",
       "      <th>158</th>\n",
       "      <td>493435</td>\n",
       "      <td>21678</td>\n",
       "      <td>2</td>\n",
       "      <td>2018-01-04 12:57:00</td>\n",
       "      <td>0.85</td>\n",
       "      <td>13206</td>\n",
       "      <td>United Kingdom</td>\n",
       "      <td>Europe</td>\n",
       "    </tr>\n",
       "    <tr>\n",
       "      <th>171</th>\n",
       "      <td>493435</td>\n",
       "      <td>21678</td>\n",
       "      <td>2</td>\n",
       "      <td>2018-01-04 12:57:00</td>\n",
       "      <td>0.85</td>\n",
       "      <td>13206</td>\n",
       "      <td>United Kingdom</td>\n",
       "      <td>Europe</td>\n",
       "    </tr>\n",
       "    <tr>\n",
       "      <th>257</th>\n",
       "      <td>493442</td>\n",
       "      <td>20751</td>\n",
       "      <td>1</td>\n",
       "      <td>2018-01-04 13:36:00</td>\n",
       "      <td>2.10</td>\n",
       "      <td>13821</td>\n",
       "      <td>United Kingdom</td>\n",
       "      <td>Europe</td>\n",
       "    </tr>\n",
       "    <tr>\n",
       "      <th>258</th>\n",
       "      <td>493442</td>\n",
       "      <td>20751</td>\n",
       "      <td>1</td>\n",
       "      <td>2018-01-04 13:36:00</td>\n",
       "      <td>2.10</td>\n",
       "      <td>13821</td>\n",
       "      <td>United Kingdom</td>\n",
       "      <td>Europe</td>\n",
       "    </tr>\n",
       "    <tr>\n",
       "      <th>267</th>\n",
       "      <td>493442</td>\n",
       "      <td>20712</td>\n",
       "      <td>1</td>\n",
       "      <td>2018-01-04 13:36:00</td>\n",
       "      <td>1.95</td>\n",
       "      <td>13821</td>\n",
       "      <td>United Kingdom</td>\n",
       "      <td>Europe</td>\n",
       "    </tr>\n",
       "  </tbody>\n",
       "</table>\n",
       "</div>"
      ],
      "text/plain": [
       "    Invoice_No Stock_Code  Quantity        Invoice_Date  Unit_Price  \\\n",
       "158     493435      21678         2 2018-01-04 12:57:00        0.85   \n",
       "171     493435      21678         2 2018-01-04 12:57:00        0.85   \n",
       "257     493442      20751         1 2018-01-04 13:36:00        2.10   \n",
       "258     493442      20751         1 2018-01-04 13:36:00        2.10   \n",
       "267     493442      20712         1 2018-01-04 13:36:00        1.95   \n",
       "\n",
       "    Customer_ID         Country  Region  \n",
       "158       13206  United Kingdom  Europe  \n",
       "171       13206  United Kingdom  Europe  \n",
       "257       13821  United Kingdom  Europe  \n",
       "258       13821  United Kingdom  Europe  \n",
       "267       13821  United Kingdom  Europe  "
      ]
     },
     "execution_count": 20,
     "metadata": {},
     "output_type": "execute_result"
    }
   ],
   "source": [
    "#creating a subset of the dataframe to view the duplicate entries \n",
    "df1 = df[df.duplicated(subset = ['Invoice_No', 'Stock_Code'], keep=False)]\n",
    "df1.head()"
   ]
  },
  {
   "cell_type": "code",
   "execution_count": 21,
   "id": "ff18c29f",
   "metadata": {},
   "outputs": [
    {
     "data": {
      "text/plain": [
       "22963"
      ]
     },
     "execution_count": 21,
     "metadata": {},
     "output_type": "execute_result"
    }
   ],
   "source": [
    "#to get the number of duplicate entries \n",
    "df.duplicated(subset = ['Invoice_No', 'Stock_Code']).sum()"
   ]
  },
  {
   "cell_type": "code",
   "execution_count": 22,
   "id": "63500317",
   "metadata": {},
   "outputs": [],
   "source": [
    "#there were 22963 duplicate entries \n",
    "#dropping them\n",
    "df2 = df.drop_duplicates(subset = ['Invoice_No', 'Stock_Code'], keep = 'first').reset_index(drop = True) "
   ]
  },
  {
   "cell_type": "code",
   "execution_count": 23,
   "id": "173fbc76",
   "metadata": {},
   "outputs": [
    {
     "data": {
      "text/plain": [
       "(999683, 8)"
      ]
     },
     "execution_count": 23,
     "metadata": {},
     "output_type": "execute_result"
    }
   ],
   "source": [
    "#checking that the duplicate entries were successfully dropped ie. that the number of rows left correspond; should be 1022646-22963\n",
    "df2.shape"
   ]
  },
  {
   "cell_type": "markdown",
   "id": "848fe0ab",
   "metadata": {},
   "source": [
    " 999,683 entries left. The duplicate entries were successfully dropped."
   ]
  },
  {
   "cell_type": "markdown",
   "id": "4ac847f3",
   "metadata": {},
   "source": [
    "#### Step 4: Adding new columns\n",
    "After the data cleaning step, I proceeded to add a few new columns in the datsset, which would help me have better descriptive analysis of the data. I added a new calculated column 'Item_Price_Total' to get the total amount for each item type on an invoice. I also added columns 'Month' and 'Year', where I extracted the month and year respectively from the Invoice_Date column."
   ]
  },
  {
   "cell_type": "code",
   "execution_count": 24,
   "id": "2251520c",
   "metadata": {
    "scrolled": false
   },
   "outputs": [
    {
     "name": "stdout",
     "output_type": "stream",
     "text": [
      "<class 'pandas.core.frame.DataFrame'>\n",
      "RangeIndex: 999683 entries, 0 to 999682\n",
      "Data columns (total 11 columns):\n",
      " #   Column            Non-Null Count   Dtype         \n",
      "---  ------            --------------   -----         \n",
      " 0   Invoice_No        999683 non-null  object        \n",
      " 1   Stock_Code        999683 non-null  object        \n",
      " 2   Quantity          999683 non-null  int64         \n",
      " 3   Invoice_Date      999683 non-null  datetime64[ns]\n",
      " 4   Unit_Price        999683 non-null  float64       \n",
      " 5   Customer_ID       999683 non-null  object        \n",
      " 6   Country           999683 non-null  object        \n",
      " 7   Region            999683 non-null  object        \n",
      " 8   Item_Price_Total  999683 non-null  float64       \n",
      " 9   Month             999683 non-null  object        \n",
      " 10  Year              999683 non-null  int64         \n",
      "dtypes: datetime64[ns](1), float64(2), int64(2), object(6)\n",
      "memory usage: 83.9+ MB\n"
     ]
    },
    {
     "data": {
      "text/html": [
       "<div>\n",
       "<style scoped>\n",
       "    .dataframe tbody tr th:only-of-type {\n",
       "        vertical-align: middle;\n",
       "    }\n",
       "\n",
       "    .dataframe tbody tr th {\n",
       "        vertical-align: top;\n",
       "    }\n",
       "\n",
       "    .dataframe thead th {\n",
       "        text-align: right;\n",
       "    }\n",
       "</style>\n",
       "<table border=\"1\" class=\"dataframe\">\n",
       "  <thead>\n",
       "    <tr style=\"text-align: right;\">\n",
       "      <th></th>\n",
       "      <th>Invoice_No</th>\n",
       "      <th>Stock_Code</th>\n",
       "      <th>Quantity</th>\n",
       "      <th>Invoice_Date</th>\n",
       "      <th>Unit_Price</th>\n",
       "      <th>Customer_ID</th>\n",
       "      <th>Country</th>\n",
       "      <th>Region</th>\n",
       "      <th>Item_Price_Total</th>\n",
       "      <th>Month</th>\n",
       "      <th>Year</th>\n",
       "    </tr>\n",
       "  </thead>\n",
       "  <tbody>\n",
       "    <tr>\n",
       "      <th>0</th>\n",
       "      <td>C493411</td>\n",
       "      <td>21539</td>\n",
       "      <td>-1</td>\n",
       "      <td>2018-01-04 09:43:00</td>\n",
       "      <td>4.25</td>\n",
       "      <td>14590</td>\n",
       "      <td>United Kingdom</td>\n",
       "      <td>Europe</td>\n",
       "      <td>-4.25</td>\n",
       "      <td>Jan</td>\n",
       "      <td>2018</td>\n",
       "    </tr>\n",
       "    <tr>\n",
       "      <th>1</th>\n",
       "      <td>493413</td>\n",
       "      <td>21724</td>\n",
       "      <td>1</td>\n",
       "      <td>2018-01-04 09:54:00</td>\n",
       "      <td>0.85</td>\n",
       "      <td>Unknown</td>\n",
       "      <td>United Kingdom</td>\n",
       "      <td>Europe</td>\n",
       "      <td>0.85</td>\n",
       "      <td>Jan</td>\n",
       "      <td>2018</td>\n",
       "    </tr>\n",
       "    <tr>\n",
       "      <th>2</th>\n",
       "      <td>493413</td>\n",
       "      <td>84578</td>\n",
       "      <td>1</td>\n",
       "      <td>2018-01-04 09:54:00</td>\n",
       "      <td>3.75</td>\n",
       "      <td>Unknown</td>\n",
       "      <td>United Kingdom</td>\n",
       "      <td>Europe</td>\n",
       "      <td>3.75</td>\n",
       "      <td>Jan</td>\n",
       "      <td>2018</td>\n",
       "    </tr>\n",
       "    <tr>\n",
       "      <th>3</th>\n",
       "      <td>493413</td>\n",
       "      <td>21723</td>\n",
       "      <td>1</td>\n",
       "      <td>2018-01-04 09:54:00</td>\n",
       "      <td>0.85</td>\n",
       "      <td>Unknown</td>\n",
       "      <td>United Kingdom</td>\n",
       "      <td>Europe</td>\n",
       "      <td>0.85</td>\n",
       "      <td>Jan</td>\n",
       "      <td>2018</td>\n",
       "    </tr>\n",
       "    <tr>\n",
       "      <th>4</th>\n",
       "      <td>493414</td>\n",
       "      <td>21844</td>\n",
       "      <td>36</td>\n",
       "      <td>2018-01-04 10:28:00</td>\n",
       "      <td>2.55</td>\n",
       "      <td>14590</td>\n",
       "      <td>United Kingdom</td>\n",
       "      <td>Europe</td>\n",
       "      <td>91.80</td>\n",
       "      <td>Jan</td>\n",
       "      <td>2018</td>\n",
       "    </tr>\n",
       "  </tbody>\n",
       "</table>\n",
       "</div>"
      ],
      "text/plain": [
       "  Invoice_No Stock_Code  Quantity        Invoice_Date  Unit_Price Customer_ID  \\\n",
       "0    C493411      21539        -1 2018-01-04 09:43:00        4.25       14590   \n",
       "1     493413      21724         1 2018-01-04 09:54:00        0.85     Unknown   \n",
       "2     493413      84578         1 2018-01-04 09:54:00        3.75     Unknown   \n",
       "3     493413      21723         1 2018-01-04 09:54:00        0.85     Unknown   \n",
       "4     493414      21844        36 2018-01-04 10:28:00        2.55       14590   \n",
       "\n",
       "          Country  Region  Item_Price_Total Month  Year  \n",
       "0  United Kingdom  Europe             -4.25   Jan  2018  \n",
       "1  United Kingdom  Europe              0.85   Jan  2018  \n",
       "2  United Kingdom  Europe              3.75   Jan  2018  \n",
       "3  United Kingdom  Europe              0.85   Jan  2018  \n",
       "4  United Kingdom  Europe             91.80   Jan  2018  "
      ]
     },
     "execution_count": 24,
     "metadata": {},
     "output_type": "execute_result"
    }
   ],
   "source": [
    "#adding Item_Price_Total column\n",
    "df2['Item_Price_Total'] =  df2['Unit_Price'] * df2['Quantity']\n",
    "\n",
    "#adding 'Month' column\n",
    "df2['Month'] = df2['Invoice_Date'].dt.strftime('%b')\n",
    "\n",
    "#adding 'Year' column\n",
    "df2['Year'] = df2['Invoice_Date'].dt.year\n",
    "\n",
    "df2.info()\n",
    "df2.head()"
   ]
  },
  {
   "cell_type": "markdown",
   "id": "adab95cd",
   "metadata": {},
   "source": [
    "#### Step 5: Running some summaries for descriptive analysis\n",
    "I did some initial summary of the data, to get some initial findings. "
   ]
  },
  {
   "cell_type": "code",
   "execution_count": 25,
   "id": "992ef4ad",
   "metadata": {},
   "outputs": [
    {
     "data": {
      "text/plain": [
       "Invoice_No\n",
       "491148    3882.66\n",
       "491149     289.92\n",
       "491150     435.60\n",
       "491151     661.16\n",
       "491152     436.80\n",
       "Name: Item_Price_Total, dtype: float64"
      ]
     },
     "execution_count": 25,
     "metadata": {},
     "output_type": "execute_result"
    }
   ],
   "source": [
    "#calculating total order amount for each order, ie. grouping the entries by Invoice_No and calculating the sum of Item_Price_Total \n",
    "Total_Order_Amount = df2.groupby('Invoice_No')['Item_Price_Total'].sum()\n",
    "Total_Order_Amount.head()"
   ]
  },
  {
   "cell_type": "code",
   "execution_count": 26,
   "id": "24924ba8",
   "metadata": {},
   "outputs": [
    {
     "data": {
      "text/plain": [
       "Year  Customer_ID\n",
       "2018  12346            59.68\n",
       "      12347          1323.32\n",
       "      12348           222.16\n",
       "      12349          2671.14\n",
       "      12351           300.93\n",
       "Name: Item_Price_Total, dtype: float64"
      ]
     },
     "execution_count": 26,
     "metadata": {},
     "output_type": "execute_result"
    }
   ],
   "source": [
    "#calculating annual customer spend for each customer\n",
    "Annual_Customer_Spend = df2.groupby(['Year', 'Customer_ID'])['Item_Price_Total'].sum()\n",
    "Annual_Customer_Spend.head()"
   ]
  },
  {
   "cell_type": "code",
   "execution_count": 27,
   "id": "955bc8b1",
   "metadata": {},
   "outputs": [
    {
     "data": {
      "text/plain": [
       "Country    Year\n",
       "Australia  2018     30076.55\n",
       "           2019    136359.42\n",
       "Austria    2018     11585.20\n",
       "           2019     10154.32\n",
       "Bahrain    2018      2313.15\n",
       "           2019       548.40\n",
       "Belgium    2018     22204.93\n",
       "           2019     40564.86\n",
       "Bermuda    2018      1253.14\n",
       "Brazil     2018       266.32\n",
       "Name: Item_Price_Total, dtype: float64"
      ]
     },
     "execution_count": 27,
     "metadata": {},
     "output_type": "execute_result"
    }
   ],
   "source": [
    "#calculating annual sales for each country\n",
    "Annual_Sale_per_Country = df2.groupby(['Country', 'Year'])['Item_Price_Total'].sum()\n",
    "Annual_Sale_per_Country.head(10)"
   ]
  },
  {
   "cell_type": "code",
   "execution_count": 28,
   "id": "21177f98",
   "metadata": {},
   "outputs": [
    {
     "data": {
      "text/plain": [
       "Region        Year\n",
       "Asia-Pacific  2018      50701.650\n",
       "              2019     186426.990\n",
       "Europe        2018    8991371.724\n",
       "              2019    9098321.913\n",
       "MEA           2018      16198.060\n",
       "              2019      13175.860\n",
       "The Americas  2018       7594.260\n",
       "              2019       6540.900\n",
       "Unspecified   2018       4937.530\n",
       "              2019       4697.480\n",
       "Name: Item_Price_Total, dtype: float64"
      ]
     },
     "execution_count": 28,
     "metadata": {},
     "output_type": "execute_result"
    }
   ],
   "source": [
    "#calculating annual sales for each region\n",
    "Annual_Sale_per_Region = df2.groupby(['Region', 'Year'])['Item_Price_Total'].sum()\n",
    "Annual_Sale_per_Region.head(10)"
   ]
  },
  {
   "cell_type": "code",
   "execution_count": 29,
   "id": "7d10a308",
   "metadata": {},
   "outputs": [
    {
     "data": {
      "text/plain": [
       "Year\n",
       "2018    9070803.224\n",
       "2019    9309163.143\n",
       "Name: Item_Price_Total, dtype: float64"
      ]
     },
     "execution_count": 29,
     "metadata": {},
     "output_type": "execute_result"
    }
   ],
   "source": [
    "#calculating total annual sales\n",
    "Total_Annual_Sales = df2.groupby(['Year'])['Item_Price_Total'].sum()\n",
    "Total_Annual_Sales"
   ]
  },
  {
   "cell_type": "markdown",
   "id": "51d7854d",
   "metadata": {},
   "source": [
    "#### Step 6: Exporting my cleaned dataset\n",
    "After I was done with the data wrangling process, I exported my cleaned dataset to CSV."
   ]
  },
  {
   "cell_type": "code",
   "execution_count": 30,
   "id": "1d63e546",
   "metadata": {},
   "outputs": [],
   "source": [
    "#write to CSV\n",
    "df2.to_csv(\"C:/Users/ETIABA CHAMBER'S/Documents/Data_Analytics/My_portfolio/Online_store_sales_cleaned.csv\", index = False)"
   ]
  },
  {
   "cell_type": "markdown",
   "id": "08e0ef1c",
   "metadata": {},
   "source": [
    "Ps.: I could have continued with data visualization in Python, but I decided to use Power BI for data visualization and further analysis.  "
   ]
  }
 ],
 "metadata": {
  "kernelspec": {
   "display_name": "Python 3 (ipykernel)",
   "language": "python",
   "name": "python3"
  },
  "language_info": {
   "codemirror_mode": {
    "name": "ipython",
    "version": 3
   },
   "file_extension": ".py",
   "mimetype": "text/x-python",
   "name": "python",
   "nbconvert_exporter": "python",
   "pygments_lexer": "ipython3",
   "version": "3.9.12"
  }
 },
 "nbformat": 4,
 "nbformat_minor": 5
}
